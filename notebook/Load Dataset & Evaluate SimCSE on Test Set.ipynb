{
 "cells": [
  {
   "cell_type": "code",
   "execution_count": 1,
   "id": "670483de",
   "metadata": {},
   "outputs": [],
   "source": [
    "from datasets import load_dataset\n",
    "\n",
    "import torch\n",
    "from transformers import AutoTokenizer, AutoModel\n",
    "\n",
    "import numpy as np\n",
    "from scipy import spatial\n",
    "from sklearn.metrics import classification_report"
   ]
  },
  {
   "cell_type": "code",
   "execution_count": 2,
   "id": "a723e77c",
   "metadata": {},
   "outputs": [
    {
     "name": "stderr",
     "output_type": "stream",
     "text": [
      "Found cached dataset lex_glue (/root/.cache/huggingface/datasets/lex_glue/case_hold/1.0.0/8a66420941bf6e77a7ddd4da4d3bfb7ba88ef48c1d55302a568ac650a095ca3a)\n"
     ]
    },
    {
     "data": {
      "application/vnd.jupyter.widget-view+json": {
       "model_id": "289b10ee3c714bec9e69d8acc6d7b783",
       "version_major": 2,
       "version_minor": 0
      },
      "text/plain": [
       "  0%|          | 0/3 [00:00<?, ?it/s]"
      ]
     },
     "metadata": {},
     "output_type": "display_data"
    }
   ],
   "source": [
    "# \"CaseHOLD\" Dataset in \"LexGLUE\" Benchmark\n",
    "# GitHub: https://github.com/coastalcph/lex-glue\n",
    "dataset=load_dataset(\"lex_glue\", \"case_hold\")"
   ]
  },
  {
   "cell_type": "code",
   "execution_count": 3,
   "id": "8f593c98",
   "metadata": {},
   "outputs": [
    {
     "name": "stdout",
     "output_type": "stream",
     "text": [
      "context\n",
      "---\n",
      "Drapeau’s cohorts, the cohort would be a “victim” of making the bomb. Further, firebombs are inherently dangerous. There is no peaceful purpose for making a bomb. Felony offenses that involve explosives qualify as “violent crimes” for purposes of enhancing the sentences of career offenders. See 18 U.S.C. § 924(e)(2)(B)(ii) (defining a “violent felony” as: “any crime punishable by imprisonment for a term exceeding one year ... that ... involves use of explosives”). Courts have found possession of a'bomb to be a crime of violence based on the lack of a nonviolent purpose for a bomb and the fact that, by its very nature, there is a substantial risk that the bomb would be used against the person or property of another. See United States v. Newman, 125 F.3d 863 (10th Cir.1997) (unpublished) (<HOLDING>); United States v. Dodge, 846 F.Supp. 181,\n",
      "===\n",
      "endings\n",
      "---\n",
      "holding that possession of a pipe bomb is a crime of violence for purposes of 18 usc  3142f1\n",
      "holding that bank robbery by force and violence or intimidation under 18 usc  2113a is a crime of violence\n",
      "holding that sexual assault of a child qualified as crime of violence under 18 usc  16\n",
      "holding for the purposes of 18 usc  924e that being a felon in possession of a firearm is not a violent felony as defined in 18 usc  924e2b\n",
      "holding that a court must only look to the statutory definition not the underlying circumstances of the crime to determine whether a given offense is by its nature a crime of violence for purposes of 18 usc  16\n",
      "===\n",
      "label 0\n"
     ]
    }
   ],
   "source": [
    "# Example of \"CaseHOLD\" Dataset\n",
    "print(\"context\\n---\")\n",
    "print(dataset[\"train\"][0][\"context\"])\n",
    "print(\"===\")\n",
    "print(\"endings\\n---\")\n",
    "for ending in dataset[\"train\"][0][\"endings\"]:\n",
    "    print(ending)\n",
    "print(\"===\")\n",
    "print(\"label\", dataset[\"train\"][0][\"label\"])"
   ]
  },
  {
   "cell_type": "code",
   "execution_count": 4,
   "id": "b434372f",
   "metadata": {},
   "outputs": [],
   "source": [
    "# Device\n",
    "device=torch.device(\"cuda:0\")\n",
    "\n",
    "# Model: Official (Unsupervised) SimCSE\n",
    "# GitHub: https://github.com/princeton-nlp/SimCSE\n",
    "tokenizer=AutoTokenizer.from_pretrained(\"princeton-nlp/sup-simcse-roberta-large\")\n",
    "model=AutoModel.from_pretrained(\"princeton-nlp/sup-simcse-roberta-large\").to(device)"
   ]
  },
  {
   "cell_type": "code",
   "execution_count": 5,
   "id": "34838181",
   "metadata": {},
   "outputs": [
    {
     "name": "stdout",
     "output_type": "stream",
     "text": [
      "900\n",
      "1800\n",
      "2700\n",
      "3600\n"
     ]
    }
   ],
   "source": [
    "# Evaluate Model on \"CaseHOLD\" Test Set\n",
    "model.eval()\n",
    "\n",
    "preds=[]\n",
    "labels=[]\n",
    "with torch.no_grad():\n",
    "    for index, data in enumerate(dataset[\"test\"]):\n",
    "        if (index+1)%900==0:\n",
    "            print(index+1)\n",
    "            \n",
    "        # Context\n",
    "        enc_context=tokenizer.encode(data[\"context\"])\n",
    "        embd_context=model(torch.tensor([enc_context]).to(device)).last_hidden_state[:,0,:]\n",
    "        \n",
    "        pred=-1\n",
    "        sim_max=-1\n",
    "        # Endings\n",
    "        for idx, ending in enumerate(data[\"endings\"]):\n",
    "            enc_ending=tokenizer.encode(ending)\n",
    "            embd_ending=model(torch.tensor([enc_ending]).to(device)).last_hidden_state[:,0,:]\n",
    "            \n",
    "            sim=1-spatial.distance.cosine(\n",
    "                np.array(embd_context.detach().cpu()),\n",
    "                np.array(embd_ending.detach().cpu())\n",
    "            )\n",
    "            if sim>sim_max:\n",
    "                pred=idx\n",
    "                sim_max=sim\n",
    "                \n",
    "        preds.append(pred)\n",
    "        labels.append(data[\"label\"])"
   ]
  },
  {
   "cell_type": "code",
   "execution_count": 6,
   "id": "207c20c7",
   "metadata": {},
   "outputs": [
    {
     "name": "stdout",
     "output_type": "stream",
     "text": [
      "              precision    recall  f1-score   support\n",
      "\n",
      "           0       0.49      0.47      0.48       721\n",
      "           1       0.51      0.52      0.52       725\n",
      "           2       0.50      0.51      0.51       727\n",
      "           3       0.52      0.53      0.53       713\n",
      "           4       0.51      0.50      0.50       714\n",
      "\n",
      "    accuracy                           0.51      3600\n",
      "   macro avg       0.51      0.51      0.51      3600\n",
      "weighted avg       0.51      0.51      0.51      3600\n",
      "\n"
     ]
    }
   ],
   "source": [
    "# Results\n",
    "print(classification_report(labels, preds))"
   ]
  },
  {
   "cell_type": "code",
   "execution_count": null,
   "id": "79633016",
   "metadata": {},
   "outputs": [],
   "source": []
  }
 ],
 "metadata": {
  "kernelspec": {
   "display_name": "Python 3 (ipykernel)",
   "language": "python",
   "name": "python3"
  },
  "language_info": {
   "codemirror_mode": {
    "name": "ipython",
    "version": 3
   },
   "file_extension": ".py",
   "mimetype": "text/x-python",
   "name": "python",
   "nbconvert_exporter": "python",
   "pygments_lexer": "ipython3",
   "version": "3.8.12"
  }
 },
 "nbformat": 4,
 "nbformat_minor": 5
}
