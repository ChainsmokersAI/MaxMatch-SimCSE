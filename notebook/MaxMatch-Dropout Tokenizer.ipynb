{
 "cells": [
  {
   "cell_type": "code",
   "execution_count": 1,
   "id": "21a53c15",
   "metadata": {},
   "outputs": [],
   "source": [
    "import sys\n",
    "\n",
    "module_path=\"..\"\n",
    "sys.path.append(module_path)\n",
    "\n",
    "from maxmatch_tokenizer import MaxMatchTokenizer\n",
    "\n",
    "from transformers import AutoTokenizer"
   ]
  },
  {
   "cell_type": "code",
   "execution_count": 2,
   "id": "43654061",
   "metadata": {},
   "outputs": [],
   "source": [
    "# SimCSE Tokenizer\n",
    "tokenizer_simcse=AutoTokenizer.from_pretrained(\"princeton-nlp/unsup-simcse-bert-large-uncased\")"
   ]
  },
  {
   "cell_type": "code",
   "execution_count": 3,
   "id": "bdbcfe03",
   "metadata": {},
   "outputs": [
    {
     "name": "stderr",
     "output_type": "stream",
     "text": [
      "Using bos_token, but it is not set yet.\n",
      "Using eos_token, but it is not set yet.\n"
     ]
    }
   ],
   "source": [
    "# MaxMatch Tokenizer\n",
    "# arXiv: https://arxiv.org/abs/2209.04126\n",
    "# GitHub: https://github.com/tatHi/maxmatch_dropout\n",
    "tokenizer=MaxMatchTokenizer()\n",
    "tokenizer.loadBertTokenizer(tokenizer_simcse, doNaivePreproc=True)"
   ]
  },
  {
   "cell_type": "code",
   "execution_count": 4,
   "id": "274816ae",
   "metadata": {},
   "outputs": [
    {
     "name": "stdout",
     "output_type": "stream",
     "text": [
      "['i', 'like', 'chocolate', 'flavor', '##ed', 'ice', 'cream', '!']\n",
      "['i', 'like', 'chocolate', 'flavor', '##ed', 'ice', 'cream', '!']\n",
      "['i', 'like', 'chocolate', 'flavor', '##ed', 'ice', 'cream', '!']\n",
      "['i', 'like', 'chocolate', 'flavor', '##ed', 'ice', 'cream', '!']\n",
      "['i', 'like', 'chocolate', 'flavor', '##ed', 'ice', 'cream', '!']\n"
     ]
    }
   ],
   "source": [
    "example_text=\"I like chocolate flavored ice cream!\"\n",
    "\n",
    "# SimCSE Tokenizer\n",
    "for i in range(5):\n",
    "    print(tokenizer_simcse.tokenize(example_text))"
   ]
  },
  {
   "cell_type": "code",
   "execution_count": 5,
   "id": "e83f7581",
   "metadata": {},
   "outputs": [
    {
     "name": "stdout",
     "output_type": "stream",
     "text": [
      "['i', 'like', 'cho', '##col', '##ate', 'flavor', '##ed', 'ice', 'cream', '!']\n",
      "['i', 'l', '##ike', 'cho', '##cola', '##te', 'flavor', '##ed', 'ice', 'cr', '##ea', '##m', '!']\n",
      "['i', 'like', 'ch', '##oco', '##lat', '##e', 'flavor', '##ed', 'ice', 'cream', '!']\n",
      "['i', 'like', 'chocolate', 'flavor', '##ed', 'ice', 'cr', '##ea', '##m', '!']\n",
      "['i', 'like', 'ch', '##oc', '##olate', 'fl', '##av', '##ored', 'i', '##c', '##e', 'c', '##rea', '##m', '!']\n"
     ]
    }
   ],
   "source": [
    "# MaxMatch Tokenizer\n",
    "for i in range(5):\n",
    "    print(tokenizer.tokenize(example_text, p=0.3))"
   ]
  },
  {
   "cell_type": "code",
   "execution_count": null,
   "id": "5c0bf784",
   "metadata": {},
   "outputs": [],
   "source": []
  }
 ],
 "metadata": {
  "kernelspec": {
   "display_name": "Python 3 (ipykernel)",
   "language": "python",
   "name": "python3"
  },
  "language_info": {
   "codemirror_mode": {
    "name": "ipython",
    "version": 3
   },
   "file_extension": ".py",
   "mimetype": "text/x-python",
   "name": "python",
   "nbconvert_exporter": "python",
   "pygments_lexer": "ipython3",
   "version": "3.8.12"
  }
 },
 "nbformat": 4,
 "nbformat_minor": 5
}
